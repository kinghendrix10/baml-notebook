{
  "nbformat": 4,
  "nbformat_minor": 0,
  "metadata": {
    "colab": {
      "provenance": []
    },
    "kernelspec": {
      "name": "python3",
      "display_name": "Python 3"
    },
    "language_info": {
      "name": "python"
    }
  },
  "cells": [
    {
      "cell_type": "code",
      "execution_count": null,
      "metadata": {
        "colab": {
          "base_uri": "https://localhost:8080/"
        },
        "id": "VGam7Mo38_kP",
        "outputId": "bcd9cce9-de5f-4776-d317-2e3c62902b2e"
      },
      "outputs": [
        {
          "output_type": "stream",
          "name": "stdout",
          "text": [
            "\u001b[2K   \u001b[90m━━━━━━━━━━━━━━━━━━━━━━━━━━━━━━━━━━━━━━━━\u001b[0m \u001b[32m11.3/11.3 MB\u001b[0m \u001b[31m10.3 MB/s\u001b[0m eta \u001b[36m0:00:00\u001b[0m\n",
            "\u001b[?25h"
          ]
        }
      ],
      "source": [
        "!pip install baml-py --quiet\n",
        "!pip install python-dotenv --quiet\n",
        "!pip install altair --quiet\n",
        "!pip install pypdf2\n",
        "!pip install python-docx"
      ]
    },
    {
      "cell_type": "code",
      "source": [
        "from google.colab import drive\n",
        "drive.mount('/content/drive')"
      ],
      "metadata": {
        "colab": {
          "base_uri": "https://localhost:8080/"
        },
        "id": "nehzf5w-fRQi",
        "outputId": "782eae2b-0034-4a61-863c-ecd1121aa847"
      },
      "execution_count": null,
      "outputs": [
        {
          "output_type": "stream",
          "name": "stdout",
          "text": [
            "Mounted at /content/drive\n"
          ]
        }
      ]
    },
    {
      "cell_type": "code",
      "source": [
        "!baml-cli init"
      ],
      "metadata": {
        "colab": {
          "base_uri": "https://localhost:8080/"
        },
        "id": "PoLUqq2LgFEH",
        "outputId": "daa63ec6-e1e5-4d91-b658-8b5ec7f31ed2"
      },
      "execution_count": null,
      "outputs": [
        {
          "output_type": "stream",
          "name": "stdout",
          "text": [
            "\u001b[90m[\u001b[0m2024-10-09T00:20:07Z \u001b[32mINFO \u001b[0m baml_runtime::cli::init\u001b[90m]\u001b[0m Created new BAML project in ./baml_src for Python clients\n",
            "\u001b[90m[\u001b[0m2024-10-09T00:20:07Z \u001b[32mINFO \u001b[0m baml_runtime::cli::init\u001b[90m]\u001b[0m Follow instructions at https://docs.boundaryml.com/docs/get-started/quickstart/python\n"
          ]
        }
      ]
    },
    {
      "cell_type": "code",
      "source": [
        "# EDIT baml_client document before generating\n",
        "\n",
        "# paste and uncomment the text below to resume.baml\n",
        "\n",
        "# // Defining a data model.\n",
        "# class Contact {\n",
        "#   email string\n",
        "#   phone string\n",
        "# }\n",
        "\n",
        "# class Skill {\n",
        "#   skill string\n",
        "#   proficiency string\n",
        "# }\n",
        "\n",
        "# class Achievement {\n",
        "#   description string\n",
        "#   metrics string?\n",
        "# }\n",
        "\n",
        "# class WorkExperience {\n",
        "#   company string\n",
        "#   job_title string\n",
        "#   duration string\n",
        "#   location string\n",
        "#   achievements Achievement[]\n",
        "# }\n",
        "\n",
        "# class Education {\n",
        "#   degree string\n",
        "#   institution string\n",
        "#   year string\n",
        "# }\n",
        "\n",
        "# class Project {\n",
        "#   name string\n",
        "#   description string\n",
        "#   impact string?\n",
        "# }\n",
        "\n",
        "# class KeyAchievement {\n",
        "#   description string\n",
        "#   metrics string?\n",
        "# }\n",
        "\n",
        "# class Resume {\n",
        "#   name string @description(#\" Full Name\n",
        "#       \"#)\n",
        "#   contact Contact @description(#\" Email and Phone\n",
        "#       \"#)\n",
        "#   summary string @description(#\" Brief professional summary\n",
        "#       \"#)\n",
        "#   skills Skill[] @description(#\" List of skills with proficiency levels\n",
        "#       \"#)\n",
        "#   work_experience WorkExperience[] @description(#\" List of work experiences with company, job title, duration, location, and achievements\n",
        "#       \"#)\n",
        "#   education Education[] @description(#\" List of educational qualifications\n",
        "#       \"#)\n",
        "#   projects Project[] @description(#\" List of projects with name, description, and impact\n",
        "#       \"#)\n",
        "#   certifications string[] @description(#\" List of certifications\n",
        "#       \"#)\n",
        "#   core_competencies string[] @description(#\" List of core competencies\n",
        "#       \"#)\n",
        "#   key_achievements KeyAchievement[] @description(#\" List of key achievements with description and metrics\n",
        "#       \"#)\n",
        "# }\n",
        "\n",
        "# // Create a function to extract the resume from a string.\n",
        "# function ExtractResume(resume: string) -> Resume {\n",
        "#   // Specify a client as provider/model-name\n",
        "#   // you can use custom LLM params with a custom client name from clients.baml like \"client CustomHaiku\"\n",
        "#   client \"openai/gpt-4o\" // Set OPENAI_API_KEY to use this client.\n",
        "#   prompt #\"\n",
        "#     Extract from this content:\n",
        "#     {{ resume }}\n",
        "\n",
        "#     {{ ctx.output_format }}\n",
        "#     Ensure all fields are present, even if empty\n",
        "#   \"#\n",
        "# }"
      ],
      "metadata": {
        "id": "FAHakkO2vxIF"
      },
      "execution_count": null,
      "outputs": []
    },
    {
      "cell_type": "code",
      "source": [
        "!baml-cli generate"
      ],
      "metadata": {
        "colab": {
          "base_uri": "https://localhost:8080/"
        },
        "id": "Bmui92PlgQ1x",
        "outputId": "a9ab7772-ff7c-4e07-81b0-c7236ea58f77"
      },
      "execution_count": null,
      "outputs": [
        {
          "output_type": "stream",
          "name": "stdout",
          "text": [
            "/bin/bash: line 1: baml-cli: command not found\n"
          ]
        }
      ]
    },
    {
      "cell_type": "code",
      "source": [
        "import sys\n",
        "sys.path.append('/content/drive/MyDrive')\n",
        "import os\n",
        "import dotenv\n",
        "# Path to API KEY\n",
        "dotenv.load_dotenv('/content/drive/MyDrive/Colab Notebooks/.env')"
      ],
      "metadata": {
        "id": "GUhrq30ZFImF",
        "colab": {
          "base_uri": "https://localhost:8080/"
        },
        "outputId": "a35b6005-14b4-4ff4-8687-4c4f9e56a48d"
      },
      "execution_count": null,
      "outputs": [
        {
          "output_type": "execute_result",
          "data": {
            "text/plain": [
              "True"
            ]
          },
          "metadata": {},
          "execution_count": 5
        }
      ]
    },
    {
      "cell_type": "code",
      "source": [
        "resume_full = \"\"\"\n",
        "    John Doe\n",
        "    1234 Elm Street\n",
        "    Springfield, IL 62701\n",
        "    (123) 456-7890\n",
        "    Email: john.doe@gmail.com\n",
        "\n",
        "    Objective: To obtain a position as a software engineer.\n",
        "\n",
        "    Education:\n",
        "    Bachelor of Science in Computer Science\n",
        "    University of Illinois at Urbana-Champaign\n",
        "    May 2020 - May 2024\n",
        "\n",
        "    Experience:\n",
        "    Software Engineer Intern\n",
        "    Google\n",
        "    May 2022 - August 2022\n",
        "    - Worked on the Google Search team\n",
        "    - Developed new features for the search engine\n",
        "    - Wrote code in Python and C++\n",
        "\n",
        "    Software Engineer Intern\n",
        "    Facebook\n",
        "    May 2021 - August 2021\n",
        "    - Worked on the Facebook Messenger team\n",
        "    - Developed new features for the messenger app\n",
        "    - Wrote code in Python and Java\n",
        "    \"\"\"\n",
        "\n",
        "resume_short = \"\"\"\n",
        "Jason Doe\n",
        "Python, Rust\n",
        "University of California, Berkeley, B.S.\n",
        "in Computer Science, 2020\n",
        "Also an expert in Tableau, SQL, and C++\n",
        "\"\"\""
      ],
      "metadata": {
        "id": "hlfLTfOgKMMN"
      },
      "execution_count": null,
      "outputs": []
    },
    {
      "cell_type": "code",
      "source": [
        "import os\n",
        "from baml_client import b\n",
        "from baml_py import ClientRegistry\n",
        "\n",
        "cr = ClientRegistry()\n",
        "# Creates a new client\n",
        "cr.add_llm_client(name='OpenAIClient', provider='openai', options={\n",
        "    \"model\": \"gpt-4o\",\n",
        "    \"temperature\": 0.1,\n",
        "    \"api_key\": os.environ.get('OPENAI_API_KEY')\n",
        "})\n",
        "# Sets MyAmazingClient as the primary client\n",
        "cr.set_primary('OpenAIClient')\n",
        "\n",
        "# ExtractResume will now use MyAmazingClient as the calling client\n",
        "res1 =  b.ExtractResume(resume_full, { \"client_registry\": cr })\n",
        "print(res1)"
      ],
      "metadata": {
        "colab": {
          "base_uri": "https://localhost:8080/"
        },
        "id": "I78rMYzYpCKR",
        "outputId": "8e61fd03-858a-4636-f34e-a02d0c5049e1"
      },
      "execution_count": null,
      "outputs": [
        {
          "output_type": "stream",
          "name": "stdout",
          "text": [
            "name='John Doe' email='john.doe@gmail.com' experience=['Software Engineer Intern at Google (May 2022 - August 2022)', 'Software Engineer Intern at Facebook (May 2021 - August 2021)'] skills=['Python', 'C++', 'Java']\n"
          ]
        }
      ]
    },
    {
      "cell_type": "code",
      "source": [
        "cr2 = ClientRegistry()\n",
        "# Creates a new client\n",
        "cr2.add_llm_client(name='OpenAIClient', provider='openai', options={\n",
        "    \"model\": \"gpt-4o\",\n",
        "    \"temperature\": 0.8, #Increased temp to see effect\n",
        "    \"api_key\": os.environ.get('OPENAI_API_KEY')\n",
        "})\n",
        "# Sets MyAmazingClient as the primary client\n",
        "cr2.set_primary('OpenAIClient')\n",
        "\n",
        "# ExtractResume will now use MyAmazingClient as the calling client\n",
        "\n",
        "res2 =  b.ExtractResume(resume_short, { \"client_registry\": cr2 })\n",
        "print(res2)"
      ],
      "metadata": {
        "colab": {
          "base_uri": "https://localhost:8080/"
        },
        "id": "KdkHTjQ44wf9",
        "outputId": "704cf602-7d53-4852-b415-932f5a31cd8d"
      },
      "execution_count": null,
      "outputs": [
        {
          "output_type": "stream",
          "name": "stdout",
          "text": [
            "name='Jason Doe' email='' experience=[] skills=['Python', 'Rust', 'Tableau', 'SQL', 'C++']\n"
          ]
        }
      ]
    },
    {
      "cell_type": "code",
      "source": [
        "gcr = ClientRegistry()\n",
        "# Creates a new client\n",
        "gcr.add_llm_client(name='GroqClient', provider='openai-generic', options={\n",
        "    \"base_url\": \"https://api.groq.com/openai/v1\",\n",
        "    \"model\": \"llama3-70b-8192\",\n",
        "    \"temperature\": 0.1,\n",
        "    \"api_key\": os.environ.get('GROQ_API_KEY')\n",
        "})\n",
        "# Sets MyAmazingClient as the primary client\n",
        "gcr.set_primary('GroqClient')\n",
        "\n",
        "# ExtractResume will now use MyAmazingClient as the calling client\n",
        "groq_res1 = b.ExtractResume(resume_full, { \"client_registry\": gcr })\n",
        "print(groq_res1)"
      ],
      "metadata": {
        "colab": {
          "base_uri": "https://localhost:8080/"
        },
        "id": "zqZsiCODpL1F",
        "outputId": "5f944d4a-a976-4809-81dc-c4a0841a9408"
      },
      "execution_count": null,
      "outputs": [
        {
          "output_type": "stream",
          "name": "stdout",
          "text": [
            "name='John Doe' email='john.doe@gmail.com' experience=['Software Engineer Intern at Google', 'Software Engineer Intern at Facebook'] skills=['Python', 'C++', 'Java']\n"
          ]
        }
      ]
    },
    {
      "cell_type": "code",
      "source": [
        "gcr2 = ClientRegistry()\n",
        "# Creates a new client\n",
        "gcr2.add_llm_client(name='GroqClient', provider='openai-generic', options={\n",
        "    \"base_url\": \"https://api.groq.com/openai/v1\",\n",
        "    \"model\": \"llama3-70b-8192\",\n",
        "    \"temperature\": 0.8,\n",
        "    \"api_key\": os.environ.get('GROQ_API_KEY')\n",
        "})\n",
        "# Sets MyAmazingClient as the primary client\n",
        "gcr2.set_primary('GroqClient')\n",
        "\n",
        "# ExtractResume will now use MyAmazingClient as the calling client\n",
        "groq_res2 = b.ExtractResume(resume_short, { \"client_registry\": gcr2 })\n",
        "print(groq_res2)"
      ],
      "metadata": {
        "colab": {
          "base_uri": "https://localhost:8080/"
        },
        "id": "diYxQ7f15zBZ",
        "outputId": "83cb0226-29eb-48e6-cc0e-72f908f36b76"
      },
      "execution_count": null,
      "outputs": [
        {
          "output_type": "stream",
          "name": "stdout",
          "text": [
            "name='Jason Doe' email=' // no email provided\\n  \"experience\": [\"University of California, Berkeley, B.S. in Computer Science, 2020\"],\\n  \"skills\": [\"Python\", \"Rust\", \"Tableau\", \"SQL\", \"C++\"]\\n}' experience=[] skills=[]\n"
          ]
        }
      ]
    },
    {
      "cell_type": "code",
      "source": [
        "import os\n",
        "import PyPDF2\n",
        "from docx import Document\n",
        "\n",
        "class FileHandler:\n",
        "    def read_files(self, file_paths):\n",
        "        resumes = []\n",
        "        for file_path in file_paths:\n",
        "            resumes.append(self.read_file(file_path))\n",
        "        return resumes\n",
        "\n",
        "    def read_file(self, file):\n",
        "        if isinstance(file, str):\n",
        "            # If file is a string (file path)\n",
        "            file_path = file\n",
        "            file_name = os.path.basename(file_path)\n",
        "        else:\n",
        "            # If file is a file object\n",
        "            file_path = file.name\n",
        "            file_name = os.path.basename(file_path)\n",
        "\n",
        "        if file_name.endswith('.pdf'):\n",
        "            return self.read_pdf(file_path)\n",
        "        elif file_name.endswith('.docx'):\n",
        "            return self.read_docx(file_path)\n",
        "        else:\n",
        "            raise ValueError(f\"Unsupported file format: {file_name}\")\n",
        "\n",
        "    def read_pdf(self, file_path):\n",
        "        with open(file_path, 'rb') as file:\n",
        "            pdf_reader = PyPDF2.PdfReader(file)\n",
        "            text = \"\"\n",
        "            for page in pdf_reader.pages:\n",
        "                text += page.extract_text()\n",
        "        return text\n",
        "\n",
        "    def read_docx(self, file_path):\n",
        "        doc = Document(file_path)\n",
        "        return \" \".join([paragraph.text for paragraph in doc.paragraphs])"
      ],
      "metadata": {
        "id": "ygsJBry7Ix3B"
      },
      "execution_count": null,
      "outputs": []
    },
    {
      "cell_type": "code",
      "source": [
        "resume_file = '/content/drive/MyDrive/Colab Notebooks/resumes/Alex Johnson.docx'\n",
        "file_handler = FileHandler()\n",
        "resume_text = file_handler.read_file(resume_file)"
      ],
      "metadata": {
        "id": "uRIobILcIgxi"
      },
      "execution_count": null,
      "outputs": []
    },
    {
      "cell_type": "code",
      "source": [
        "resume_text"
      ],
      "metadata": {
        "colab": {
          "base_uri": "https://localhost:8080/",
          "height": 182
        },
        "id": "fNGo0qQGsHSQ",
        "outputId": "67fb4dbe-f3d9-42ce-969d-fc83973af30b"
      },
      "execution_count": null,
      "outputs": [
        {
          "output_type": "execute_result",
          "data": {
            "text/plain": [
              "'Alex Johnson Email: alex.johnson@email.com Phone: (555) 123-4567  Summary: Innovative Data Scientist with 3 years of experience in applying machine learning techniques to solve real-world problems. Skilled in developing and deploying scalable data solutions in cloud environments.  Skills: - Python (Advanced) - SQL (Intermediate) - Machine Learning (Advanced) - Deep Learning (Intermediate) - GCP (Advanced) - Docker (Intermediate) - Keras (Advanced) - Data Visualization (Intermediate)  Experience: Data Scientist | AI Innovations | 2020-Present | Austin, TX - Developed and deployed machine learning models on Google Cloud Platform, improving processing speed by 40% - Created a deep learning model for image classification with 95% accuracy - Collaborated with product teams to implement AI-driven features, increasing user engagement by 25%  Junior Data Scientist | Tech Startups Inc. | 2018-2020 | San Jose, CA - Assisted in developing predictive maintenance models for IoT devices - Performed data analysis and created visualizations using Matplotlib and Seaborn  Education: - M.S. in Artificial Intelligence, Stanford University, 2018 - B.S. in Computer Engineering, University of Texas at Austin, 2016  Certifications: - Google Cloud Professional Data Engineer - Deep Learning Specialization, Coursera  Projects: - Built a real-time anomaly detection system using streaming data and Apache Kafka - Developed a chatbot using natural language processing techniques  Core Competencies: - Creative problem-solving - Strong programming skills - Effective communication of technical concepts to non-technical stakeholders'"
            ],
            "application/vnd.google.colaboratory.intrinsic+json": {
              "type": "string"
            }
          },
          "metadata": {},
          "execution_count": 12
        }
      ]
    },
    {
      "cell_type": "code",
      "source": [
        "gcr = ClientRegistry()\n",
        "# Creates a new client\n",
        "gcr.add_llm_client(name='GroqClient', provider='openai-generic', options={\n",
        "    \"base_url\": \"https://api.groq.com/openai/v1\",\n",
        "    \"model\": \"llama3-70b-8192\",\n",
        "    \"temperature\": 0.1,\n",
        "    \"api_key\": os.environ.get('GROQ_API_KEY')\n",
        "})\n",
        "# Sets MyAmazingClient as the primary client\n",
        "gcr.set_primary('GroqClient')\n",
        "\n",
        "# ExtractResume will now use MyAmazingClient as the calling client\n",
        "groq_res1 = b.ExtractResume(resume_text, { \"client_registry\": gcr })\n",
        "print(groq_res1)"
      ],
      "metadata": {
        "colab": {
          "base_uri": "https://localhost:8080/"
        },
        "id": "FuimOWFqqBJt",
        "outputId": "106659bb-d8aa-404f-b224-0b8e24fea097"
      },
      "execution_count": null,
      "outputs": [
        {
          "output_type": "stream",
          "name": "stdout",
          "text": [
            "name='Alex Johnson' contact=Contact(email='alex.johnson@email.com', phone='(555) 123-4567') summary='Innovative Data Scientist with 3 years of experience in applying machine learning techniques to solve real-world problems. Skilled in developing and deploying scalable data solutions in cloud environments.' skills=[Skill(skill='Python', proficiency='Advanced'), Skill(skill='SQL', proficiency='Intermediate'), Skill(skill='Machine Learning', proficiency='Advanced'), Skill(skill='Deep Learning', proficiency='Intermediate'), Skill(skill='GCP', proficiency='Advanced'), Skill(skill='Docker', proficiency='Intermediate'), Skill(skill='Keras', proficiency='Advanced'), Skill(skill='Data Visualization', proficiency='Intermediate')] work_experience=[WorkExperience(company='AI Innovations', job_title='Data Scientist', duration='2020-Present', location='Austin, TX', achievements=[Achievement(description='Developed and deployed machine learning models on Google Cloud Platform', metrics='40%'), Achievement(description='Created a deep learning model for image classification', metrics='95%'), Achievement(description='Collaborated with product teams to implement AI-driven features', metrics='25%')]), WorkExperience(company='Tech Startups Inc.', job_title='Junior Data Scientist', duration='2018-2020', location='San Jose, CA', achievements=[Achievement(description='Assisted in developing predictive maintenance models for IoT devices', metrics=None), Achievement(description='Performed data analysis and created visualizations using Matplotlib and Seaborn', metrics=None)])] education=[Education(degree='M.S. in Artificial Intelligence', institution='Stanford University', year='2018'), Education(degree='B.S. in Computer Engineering', institution='University of Texas at Austin', year='2016')] projects=[Project(name='Real-time Anomaly Detection System', description='Built a real-time anomaly detection system using streaming data and Apache Kafka', impact=None), Project(name='Chatbot', description='Developed a chatbot using natural language processing techniques', impact=None)] certifications=['Google Cloud Professional Data Engineer', 'Deep Learning Specialization, Coursera'] core_competencies=['Creative problem-solving', 'Strong programming skills', 'Effective communication of technical concepts to non-technical stakeholders'] key_achievements=[]\n"
          ]
        }
      ]
    },
    {
      "cell_type": "code",
      "source": [
        "groq_res1"
      ],
      "metadata": {
        "colab": {
          "base_uri": "https://localhost:8080/"
        },
        "id": "BC-09DxjqTUG",
        "outputId": "8a906879-898f-49d6-95c9-ad3c08c4cc9e"
      },
      "execution_count": null,
      "outputs": [
        {
          "output_type": "execute_result",
          "data": {
            "text/plain": [
              "Resume(name='Alex Johnson', contact=Contact(email='alex.johnson@email.com', phone='(555) 123-4567'), summary='Innovative Data Scientist with 3 years of experience in applying machine learning techniques to solve real-world problems. Skilled in developing and deploying scalable data solutions in cloud environments.', skills=[Skill(skill='Python', proficiency='Advanced'), Skill(skill='SQL', proficiency='Intermediate'), Skill(skill='Machine Learning', proficiency='Advanced'), Skill(skill='Deep Learning', proficiency='Intermediate'), Skill(skill='GCP', proficiency='Advanced'), Skill(skill='Docker', proficiency='Intermediate'), Skill(skill='Keras', proficiency='Advanced'), Skill(skill='Data Visualization', proficiency='Intermediate')], work_experience=[WorkExperience(company='AI Innovations', job_title='Data Scientist', duration='2020-Present', location='Austin, TX', achievements=[Achievement(description='Developed and deployed machine learning models on Google Cloud Platform', metrics='40%'), Achievement(description='Created a deep learning model for image classification', metrics='95%'), Achievement(description='Collaborated with product teams to implement AI-driven features', metrics='25%')]), WorkExperience(company='Tech Startups Inc.', job_title='Junior Data Scientist', duration='2018-2020', location='San Jose, CA', achievements=[Achievement(description='Assisted in developing predictive maintenance models for IoT devices', metrics=None), Achievement(description='Performed data analysis and created visualizations using Matplotlib and Seaborn', metrics=None)])], education=[Education(degree='M.S. in Artificial Intelligence', institution='Stanford University', year='2018'), Education(degree='B.S. in Computer Engineering', institution='University of Texas at Austin', year='2016')], projects=[Project(name='Real-time Anomaly Detection System', description='Built a real-time anomaly detection system using streaming data and Apache Kafka', impact=None), Project(name='Chatbot', description='Developed a chatbot using natural language processing techniques', impact=None)], certifications=['Google Cloud Professional Data Engineer', 'Deep Learning Specialization, Coursera'], core_competencies=['Creative problem-solving', 'Strong programming skills', 'Effective communication of technical concepts to non-technical stakeholders'], key_achievements=[])"
            ]
          },
          "metadata": {},
          "execution_count": 11
        }
      ]
    }
  ]
}
